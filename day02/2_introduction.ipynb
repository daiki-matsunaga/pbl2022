{
 "cells": [
  {
   "cell_type": "code",
   "execution_count": null,
   "metadata": {},
   "outputs": [],
   "source": [
    "# ライブラリのimport\n",
    "import json\n",
    "import matplotlib.pyplot as plt\n",
    "import numpy as np\n",
    "import requests\n",
    "import datetime as dt\n",
    "import matplotlib.dates as mdates\n",
    "\n",
    "# ウェブサイトよりjsonのデータをパース(parse)する\n",
    "data = requests.get(\"https://covid.ourworldindata.org/data/owid-covid-data.json\").json()\n",
    "\n",
    "#最初の1000文字だけを表示...\n",
    "print(\"%.1000s ...\" % data)"
   ]
  },
  {
   "cell_type": "code",
   "execution_count": null,
   "metadata": {},
   "outputs": [],
   "source": [
    "# 3文字の国名コードがデータを呼び出すキー(key)になっている\n",
    "# 例えばJPN，USA，DEU，GBRなど\n",
    "\n",
    "# JSONの基本構造 --- {key: value}\n",
    "\n",
    "print(data[\"JPN\"])\n",
    "\n",
    "# Q1. 他の国のデータを表示せよ"
   ]
  },
  {
   "cell_type": "code",
   "execution_count": null,
   "metadata": {},
   "outputs": [],
   "source": [
    "# 全てのキーをfor文で順に取り出して対応関係を表示\n",
    "\n",
    "for country_code in data:\n",
    "    print(country_code, data[country_code][\"location\"])\n",
    "    \n",
    "# Q2. 国の名前だけでなく，その国が属する大陸(continent)，人口など他のステータスを同時に見るには？\n",
    "# Note: 例外処理が必要 data[country_code].get(\"population\", \"nan\") --- データがなければnan(not-a-number)を代入"
   ]
  },
  {
   "cell_type": "code",
   "execution_count": null,
   "metadata": {},
   "outputs": [],
   "source": [
    "# 可読性のため変数jpnに日本のデータを代入\n",
    "\n",
    "jpn = data[\"JPN\"]\n",
    "print(\"%.1000s ...\" % jpn)"
   ]
  },
  {
   "cell_type": "code",
   "execution_count": null,
   "metadata": {},
   "outputs": [],
   "source": [
    "# data[\"JPN\"][\"data\"]の下に各日にちにおける感染者の情報のリスト\n",
    "\n",
    "print(jpn[\"data\"][0])\n",
    "print(jpn[\"data\"][1])\n",
    "print(\"...\")\n",
    "print(jpn[\"data\"][-2])\n",
    "print(jpn[\"data\"][-1])\n",
    "\n",
    "# Q3. 記録上最初の数日と，最後の数日の日付，感染者数などをprintで表示せよ"
   ]
  },
  {
   "cell_type": "code",
   "execution_count": null,
   "metadata": {},
   "outputs": [],
   "source": [
    "# ある国のデータを再び変数country_dataの中に格納\n",
    "country_data = data[\"JPN\"][\"data\"]\n",
    "\n",
    "# 日にちデータに対し5日前のkeyを表示\n",
    "print(\"Key list:\")\n",
    "for key in country_data[-5]:\n",
    "    print(key)"
   ]
  },
  {
   "cell_type": "code",
   "execution_count": null,
   "metadata": {},
   "outputs": [],
   "source": [
    "## グラフにより表示\n",
    "\n",
    "key = \"new_cases\" # 指定するkey\n",
    "\n",
    "dates = []\n",
    "value = []\n",
    "\n",
    "for datedata in country_data: # 日にちデータをforループ\n",
    "    t = datedata.get(key, \"nan\") # もしそのkeyが存在しない場合，nanを代入\n",
    "    \n",
    "    if(t != \"nan\"): # nanでなければ，リストvalueの中に値を，リストdatesの中にその日付をappend\n",
    "        value.append(float(t))\n",
    "        dates.append(datedata.get(\"date\"))\n",
    "\n",
    "# 日付のフォーマットを整形\n",
    "dates = [dt.datetime.strptime(d, '%Y-%m-%d').date() for d in dates]\n",
    "\n",
    "# matplotlibによる可視化\n",
    "fig, ax = plt.subplots()\n",
    "plt.gca().xaxis.set_major_formatter(mdates.DateFormatter('%Y/%m'))\n",
    "plt.gca().xaxis.set_major_locator(mdates.DayLocator(interval=120))\n",
    "plt.gcf().autofmt_xdate()\n",
    "\n",
    "ax.plot(dates, value)\n",
    "ax.set_ylabel(key)\n",
    "plt.show()"
   ]
  },
  {
   "cell_type": "code",
   "execution_count": null,
   "metadata": {},
   "outputs": [],
   "source": []
  }
 ],
 "metadata": {
  "kernelspec": {
   "display_name": "Python 3 (ipykernel)",
   "language": "python",
   "name": "python3"
  },
  "language_info": {
   "codemirror_mode": {
    "name": "ipython",
    "version": 3
   },
   "file_extension": ".py",
   "mimetype": "text/x-python",
   "name": "python",
   "nbconvert_exporter": "python",
   "pygments_lexer": "ipython3",
   "version": "3.10.4"
  }
 },
 "nbformat": 4,
 "nbformat_minor": 4
}
