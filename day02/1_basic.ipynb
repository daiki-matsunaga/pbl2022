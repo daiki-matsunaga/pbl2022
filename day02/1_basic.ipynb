{
 "cells": [
  {
   "cell_type": "code",
   "execution_count": null,
   "id": "28337cd8",
   "metadata": {},
   "outputs": [],
   "source": [
    "# listとはデータを入れておくための配列\n",
    "# 数字だけでなく文字列なども入れられる，混ぜても良い\n",
    "\n",
    "data = [\"a\", 1, \"b\", 2, \"c\", 3]\n",
    "\n",
    "print(data)\n",
    "print(data[0])\n",
    "print(data[3], data[4]) # printは横に並べることもできる"
   ]
  },
  {
   "cell_type": "code",
   "execution_count": null,
   "id": "0dbc46d2",
   "metadata": {},
   "outputs": [],
   "source": [
    "# listはappendでデータを足すことができる\n",
    "\n",
    "data.append(\"d\")\n",
    "\n",
    "print(data)\n",
    "\n",
    "data.append(4)\n",
    "\n",
    "print(data)"
   ]
  },
  {
   "cell_type": "code",
   "execution_count": null,
   "id": "8c66cdda",
   "metadata": {},
   "outputs": [],
   "source": [
    "# 多次元リスト\n",
    "\n",
    "data2 = [[\"a\", \"b\"], [\"c\", \"d\"]]\n",
    "\n",
    "print(data2[0][0])\n",
    "print(data2[0][1])\n",
    "print(data2[1][0])"
   ]
  },
  {
   "cell_type": "code",
   "execution_count": null,
   "id": "defde50e",
   "metadata": {},
   "outputs": [],
   "source": [
    "# for文\n",
    "\n",
    "for i in range(5):\n",
    "    print(i)"
   ]
  },
  {
   "cell_type": "code",
   "execution_count": null,
   "id": "e3b13883",
   "metadata": {},
   "outputs": [],
   "source": [
    "# for文を使った総和計算\n",
    "\n",
    "tmp = 0\n",
    "\n",
    "for i in range(5):\n",
    "    tmp += i\n",
    "\n",
    "print(tmp)"
   ]
  },
  {
   "cell_type": "code",
   "execution_count": null,
   "id": "db6fd8b1",
   "metadata": {},
   "outputs": [],
   "source": [
    "# if文\n",
    "\n",
    "for i in range(5):\n",
    "    if i%2 == 0:\n",
    "        print(i, \"even\")\n",
    "    else:\n",
    "        print(i, \"odd\")"
   ]
  },
  {
   "cell_type": "code",
   "execution_count": null,
   "id": "b76bd509",
   "metadata": {},
   "outputs": [],
   "source": []
  }
 ],
 "metadata": {
  "kernelspec": {
   "display_name": "Python 3 (ipykernel)",
   "language": "python",
   "name": "python3"
  },
  "language_info": {
   "codemirror_mode": {
    "name": "ipython",
    "version": 3
   },
   "file_extension": ".py",
   "mimetype": "text/x-python",
   "name": "python",
   "nbconvert_exporter": "python",
   "pygments_lexer": "ipython3",
   "version": "3.10.4"
  }
 },
 "nbformat": 4,
 "nbformat_minor": 5
}
