{
 "cells": [
  {
   "cell_type": "code",
   "execution_count": null,
   "id": "3c2f3224",
   "metadata": {},
   "outputs": [],
   "source": [
    "import json\n",
    "import numpy as np\n",
    "import pandas as pd\n",
    "import folium\n",
    "\n",
    "# データ読み込み\n",
    "df = pd.read_json(\"https://covid.ourworldindata.org/data/owid-covid-data.json\")\n",
    "df = df[df.columns.drop(list(df.filter(regex='OWID')))] "
   ]
  },
  {
   "cell_type": "code",
   "execution_count": null,
   "id": "b848d585",
   "metadata": {},
   "outputs": [],
   "source": [
    "df = df.T # 国名が行になるように表を転置\n",
    "df['index'] = df.index # foliumのために国名コードのindexもcolumnに追加する"
   ]
  },
  {
   "cell_type": "code",
   "execution_count": null,
   "id": "32658b5e",
   "metadata": {},
   "outputs": [],
   "source": [
    "# 国形状のデータを取得する\n",
    "url = \"https://raw.githubusercontent.com/python-visualization/folium/master/examples/data\"\n",
    "world_geo = f\"{url}/world-countries.json\"\n",
    "\n",
    "# foliumの表示の初期設定\n",
    "m = folium.Map(location=[0, 0], zoom_start=2)\n",
    "\n",
    "# foliumのオプション\n",
    "folium.Choropleth(\n",
    "    geo_data=world_geo, # 世界の国の形状を用いる\n",
    "    name=\"choropleth\",\n",
    "    data=df, # OWIDのデータを使う\n",
    "    columns=[\"index\", \"median_age\"], # dfのうちindex（国名コード），median_ageのcolumnを使う\n",
    "    key_on=\"feature.id\", # world_geoのfeature.idと国名コードが一致するとき，その国を色塗り\n",
    "    fill_color=\"YlOrRd\", # 色の設定\n",
    "    fill_opacity=0.7,\n",
    "    line_opacity=0.2,\n",
    "    nan_fill_color='black', # データがない国の色を設定\n",
    "    legend_name=\"平均年齢\", # 凡例のラベル\n",
    ").add_to(m)\n",
    "\n",
    "folium.LayerControl().add_to(m)\n",
    "\n",
    "m # 表示"
   ]
  },
  {
   "cell_type": "code",
   "execution_count": null,
   "id": "b354b590",
   "metadata": {},
   "outputs": [],
   "source": []
  }
 ],
 "metadata": {
  "kernelspec": {
   "display_name": "Python 3 (ipykernel)",
   "language": "python",
   "name": "python3"
  },
  "language_info": {
   "codemirror_mode": {
    "name": "ipython",
    "version": 3
   },
   "file_extension": ".py",
   "mimetype": "text/x-python",
   "name": "python",
   "nbconvert_exporter": "python",
   "pygments_lexer": "ipython3",
   "version": "3.10.4"
  }
 },
 "nbformat": 4,
 "nbformat_minor": 5
}
