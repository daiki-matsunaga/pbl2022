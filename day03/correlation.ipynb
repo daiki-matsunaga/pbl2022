{
 "cells": [
  {
   "cell_type": "code",
   "execution_count": null,
   "id": "c18b96f2",
   "metadata": {},
   "outputs": [],
   "source": [
    "import json\n",
    "import matplotlib.pyplot as plt\n",
    "import numpy as np\n",
    "import pandas as pd\n",
    "\n",
    "pd.set_option('display.max_columns', None) # pandasオプション：列データを全て表示"
   ]
  },
  {
   "cell_type": "code",
   "execution_count": null,
   "id": "413abecc",
   "metadata": {},
   "outputs": [],
   "source": [
    "# データフレームdfにOur World in Dataのデータを読み込む\n",
    "df = pd.read_json(\"https://covid.ourworldindata.org/data/owid-covid-data.json\")\n",
    "df = df[df.columns.drop(list(df.filter(regex='OWID')))] # OWIDデータを除外\n",
    "\n",
    "# データの表示\n",
    "df"
   ]
  },
  {
   "cell_type": "code",
   "execution_count": null,
   "id": "27c0da76",
   "metadata": {},
   "outputs": [],
   "source": [
    "# 難：日付データ\"data\"のうち，各国の最新データを元にデータフレームを作成\n",
    "\n",
    "countries = df.columns\n",
    "date_keys = pd.DataFrame(df['USA']['data']).columns\n",
    "\n",
    "df2 = pd.DataFrame(columns = countries, index = date_keys)\n",
    "for column in countries:\n",
    "    for indexs in date_keys:\n",
    "        try:\n",
    "            df2[column][indexs] = df[column]['data'][-1][indexs]\n",
    "        except KeyError:\n",
    "            df2[column][indexs] = \"NaN\"\n",
    "\n",
    "# 二つのデータフレームをマージ\n",
    "df_all = pd.concat([df,df2]).T\n",
    "\n",
    "# df_allの表示\n",
    "df_all"
   ]
  },
  {
   "cell_type": "code",
   "execution_count": null,
   "id": "1d8a94d1",
   "metadata": {},
   "outputs": [],
   "source": [
    "# keyを二つ選択する\n",
    "plt.rcParams['figure.dpi'] = 100\n",
    "key1 = \"gdp_per_capita\"\n",
    "key2 = \"total_cases_per_million\"\n",
    "\n",
    "# df_allの中からkeyを二つだけ取り出し新しいデータフレームを作成\n",
    "extracted = df_all[[key1, key2]].astype(float)\n",
    "corr = extracted.corr()\n",
    "\n",
    "# グラフの表示\n",
    "fig, ax = plt.subplots()\n",
    "ax.plot(extracted[key1], extracted[key2], 'o')\n",
    "\n",
    "# グラフ：国名の表示\n",
    "for i, country in enumerate(countries):\n",
    "    ax.annotate(country, (extracted[key1][i], extracted[key2][i]))\n",
    "\n",
    "# グラフ：表記の設定\n",
    "ax.set_xlabel(key1)\n",
    "ax.set_ylabel(key2)\n",
    "ax.set_xscale('log')\n",
    "ax.set_yscale('log')\n",
    "plt.show()\n",
    "\n",
    "# 相関係数の表示\n",
    "print(\"correlation:\", corr[key1][key2])"
   ]
  },
  {
   "cell_type": "code",
   "execution_count": null,
   "id": "eb7ddd54",
   "metadata": {},
   "outputs": [],
   "source": []
  }
 ],
 "metadata": {
  "kernelspec": {
   "display_name": "Python 3 (ipykernel)",
   "language": "python",
   "name": "python3"
  },
  "language_info": {
   "codemirror_mode": {
    "name": "ipython",
    "version": 3
   },
   "file_extension": ".py",
   "mimetype": "text/x-python",
   "name": "python",
   "nbconvert_exporter": "python",
   "pygments_lexer": "ipython3",
   "version": "3.10.4"
  }
 },
 "nbformat": 4,
 "nbformat_minor": 5
}
